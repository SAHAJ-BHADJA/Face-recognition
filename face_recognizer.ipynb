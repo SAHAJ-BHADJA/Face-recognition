{
 "cells": [
  {
   "cell_type": "code",
   "execution_count": 1,
   "id": "trying-uncle",
   "metadata": {},
   "outputs": [],
   "source": [
    "import pandas as pd\n",
    "import numpy as np\n",
    "import cv2"
   ]
  },
  {
   "cell_type": "code",
   "execution_count": 2,
   "id": "apart-cornell",
   "metadata": {},
   "outputs": [],
   "source": [
    "cap = cv2.VideoCapture(0)\n",
    "face_cascade = cv2.CascadeClassifier(\"archive/haarcascade_frontalface_alt.xml\")\n",
    "\n",
    "count = 0\n",
    "skip = 0\n",
    "face_data = []\n",
    "dataset_path = './data/'\n",
    "offset = 10"
   ]
  },
  {
   "cell_type": "code",
   "execution_count": 3,
   "id": "electoral-investor",
   "metadata": {},
   "outputs": [
    {
     "name": "stdout",
     "output_type": "stream",
     "text": [
      "1\n",
      "2\n",
      "3\n",
      "4\n",
      "5\n",
      "6\n",
      "7\n",
      "8\n",
      "9\n",
      "10\n",
      "(10, 100, 100, 3)\n",
      "(10, 30000)\n",
      "data successfully saved at ./data/dhruvbhanderi.npy\n"
     ]
    }
   ],
   "source": [
    "\n",
    "file_name = input(\"Enter the name of the person : \")\n",
    "\n",
    "while True:\n",
    "    ret,frame = cap.read()\n",
    "    \n",
    "    if(ret == False):\n",
    "        continue\n",
    "        \n",
    "    gray_frame = cv2.cvtColor(frame,cv2.COLOR_BGR2GRAY) \n",
    "    \n",
    "    \n",
    "    faces = face_cascade.detectMultiScale(frame, 1.3, 5)\n",
    "   \n",
    "    faces = sorted(faces,key=lambda f: f[2]* f[3])\n",
    "    \n",
    "   \n",
    "    for face in faces[-1:]:\n",
    "        x, y, w, h =  face \n",
    "        cv2.rectangle(frame,(x, y),(x + w, y + h),(255,0,0),2)\n",
    "    \n",
    "    #extract main face\n",
    "    face_section = frame[ y-offset : y+h+offset, x-offset : x+ w+ offset]\n",
    "    face_section = cv2.resize(face_section,(100, 100))\n",
    "    \n",
    "    skip += 1\n",
    "    \n",
    "    if(skip % 10 == 0):\n",
    "        face_data.append(face_section)\n",
    "        print(len(face_data))\n",
    "        \n",
    "    \n",
    "    cv2.imshow(\"Cropped\", face_section) \n",
    "    cv2.imshow(\"VIDEO FRAME\", frame)\n",
    "    count += 1\n",
    "    keypressed = cv2.waitKey(100) & 0xFF\n",
    "    if(keypressed == ord('q')):\n",
    "        break\n",
    "    elif(count>100):\n",
    "        break\n",
    "\n",
    "face_data = np.array(face_data)\n",
    "print(face_data.shape)\n",
    "face_data = face_data.reshape((face_data.shape[0],-1))\n",
    "print(face_data.shape)\n",
    "\n",
    "\n",
    "np.save(dataset_path + file_name + '.npy',face_data)\n",
    "print(\"data successfully saved at \" + dataset_path+file_name+'.npy')\n",
    "\n",
    "cap.release()\n",
    "cv2.destroyAllWindows()"
   ]
  }
 ],
 "metadata": {
  "kernelspec": {
   "display_name": "Python 3.9.2 64-bit",
   "language": "python",
   "name": "python3"
  },
  "language_info": {
   "codemirror_mode": {
    "name": "ipython",
    "version": 3
   },
   "file_extension": ".py",
   "mimetype": "text/x-python",
   "name": "python",
   "nbconvert_exporter": "python",
   "pygments_lexer": "ipython3",
   "version": "3.9.2"
  },
  "vscode": {
   "interpreter": {
    "hash": "d361700b9a9c326dc8d0f2aed882b940039dc801e57c5ee64f97fc58a6b83d17"
   }
  }
 },
 "nbformat": 4,
 "nbformat_minor": 5
}
