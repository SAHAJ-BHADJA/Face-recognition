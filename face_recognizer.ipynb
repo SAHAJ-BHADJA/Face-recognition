{
 "cells": [
  {
   "cell_type": "code",
   "execution_count": 8,
   "id": "trying-uncle",
   "metadata": {},
   "outputs": [],
   "source": [
    "import cv2\n",
    "import os\n",
    "import numpy as np\n",
    "from sklearn.preprocessing import LabelEncoder\n",
    "from sklearn.neighbors import KNeighborsClassifier\n",
    "import cv2"
   ]
  },
  {
   "cell_type": "code",
   "execution_count": 9,
   "id": "apart-cornell",
   "metadata": {},
   "outputs": [],
   "source": [
    "cap = cv2.VideoCapture(0)\n",
    "face_cascade = cv2.CascadeClassifier(\"archive/haarcascade_frontalface_alt.xml\")\n",
    "\n",
    "count = 0\n",
    "skip = 0\n",
    "face_data = []\n",
    "dataset_path = './data/'\n",
    "offset = 10"
   ]
  },
  {
   "cell_type": "code",
   "execution_count": 10,
   "id": "3efcab46",
   "metadata": {},
   "outputs": [
    {
     "name": "stdout",
     "output_type": "stream",
     "text": [
      "Model trained successfully!\n"
     ]
    }
   ],
   "source": [
    "\n",
    "\n",
    "# Path to the dataset\n",
    "dataset_path = './data/'\n",
    "\n",
    "# Loading the dataset\n",
    "face_data = []\n",
    "labels = []\n",
    "\n",
    "# For each file in the dataset folder, load the face data and assign labels\n",
    "for filename in os.listdir(dataset_path):\n",
    "    if filename.endswith('.npy'):\n",
    "        # Load faces\n",
    "        data = np.load(dataset_path + filename)\n",
    "        face_data.append(data)\n",
    "        \n",
    "        # Create labels for the loaded face data\n",
    "        # Assuming filename format is \"PersonName.npy\"\n",
    "        name = filename[:-4]\n",
    "        labels.append([name] * data.shape[0])\n",
    "\n",
    "# Converting lists into numpy arrays\n",
    "face_data = np.concatenate(face_data, axis=0)\n",
    "labels = np.concatenate(labels, axis=0)\n",
    "\n",
    "# Encoding labels into integers\n",
    "label_encoder = LabelEncoder()\n",
    "labels_encoded = label_encoder.fit_transform(labels)\n",
    "\n",
    "# Train a simple model (e.g., KNN) for face recognition\n",
    "model = KNeighborsClassifier(n_neighbors=5)\n",
    "model.fit(face_data, labels_encoded)\n",
    "\n",
    "print(\"Model trained successfully!\")\n"
   ]
  },
  {
   "cell_type": "code",
   "execution_count": 11,
   "id": "b5a8fbfc",
   "metadata": {},
   "outputs": [],
   "source": [
    "import cv2\n",
    "\n",
    "# Initialize the camera and load the face cascade\n",
    "cap = cv2.VideoCapture(0)\n",
    "face_cascade = cv2.CascadeClassifier(\"archive/haarcascade_frontalface_alt.xml\")\n",
    "\n",
    "while True:\n",
    "    ret, frame = cap.read()\n",
    "    if not ret:\n",
    "        break\n",
    "\n",
    "    gray_frame = cv2.cvtColor(frame, cv2.COLOR_BGR2GRAY)\n",
    "    faces = face_cascade.detectMultiScale(gray_frame, 1.3, 5)\n",
    "\n",
    "    for (x, y, w, h) in faces:\n",
    "        cv2.rectangle(frame, (x, y), (x+w, y+h), (255, 0, 0), 2)\n",
    "        \n",
    "        # Extract the face region\n",
    "        face_section = frame[y:y+h, x:x+w]\n",
    "        face_section = cv2.resize(face_section, (100, 100)).flatten()\n",
    "\n",
    "        # Predict the label of the face\n",
    "        label_index = model.predict([face_section])\n",
    "        label_name = label_encoder.inverse_transform(label_index)\n",
    "        \n",
    "        # Display the name of the person\n",
    "        cv2.putText(frame, label_name[0], (x, y-10), cv2.FONT_HERSHEY_SIMPLEX, 1, (255, 0, 0), 2, cv2.LINE_AA)\n",
    "\n",
    "    cv2.imshow(\"Frame\", frame)\n",
    "    \n",
    "    key = cv2.waitKey(1) & 0xFF\n",
    "    if key == ord('q'):\n",
    "        break\n",
    "\n",
    "cap.release()\n",
    "cv2.destroyAllWindows()\n"
   ]
  },
  {
   "cell_type": "code",
   "execution_count": null,
   "id": "7217e21c",
   "metadata": {},
   "outputs": [],
   "source": []
  }
 ],
 "metadata": {
  "kernelspec": {
   "display_name": "Python 3.9.2 64-bit",
   "language": "python",
   "name": "python3"
  },
  "language_info": {
   "codemirror_mode": {
    "name": "ipython",
    "version": 3
   },
   "file_extension": ".py",
   "mimetype": "text/x-python",
   "name": "python",
   "nbconvert_exporter": "python",
   "pygments_lexer": "ipython3",
   "version": "3.11.4"
  },
  "vscode": {
   "interpreter": {
    "hash": "d361700b9a9c326dc8d0f2aed882b940039dc801e57c5ee64f97fc58a6b83d17"
   }
  }
 },
 "nbformat": 4,
 "nbformat_minor": 5
}
